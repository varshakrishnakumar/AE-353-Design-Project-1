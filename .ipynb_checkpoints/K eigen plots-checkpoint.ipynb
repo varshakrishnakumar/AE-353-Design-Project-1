{
 "cells": [
  {
   "cell_type": "markdown",
   "id": "middle-acoustic",
   "metadata": {},
   "source": [
    "# Control of platform angle and wheel velocity with gravity"
   ]
  },
  {
   "cell_type": "markdown",
   "id": "90a3378b",
   "metadata": {},
   "source": [
    "Do all imports:"
   ]
  },
  {
   "cell_type": "code",
   "execution_count": 2,
   "id": "dimensional-contamination",
   "metadata": {},
   "outputs": [
    {
     "ename": "ModuleNotFoundError",
     "evalue": "No module named 'bokeh'",
     "output_type": "error",
     "traceback": [
      "\u001b[1;31m---------------------------------------------------------------------------\u001b[0m",
      "\u001b[1;31mModuleNotFoundError\u001b[0m                       Traceback (most recent call last)",
      "\u001b[1;32mc:\\Users\\HP\\Documents\\GitHub\\01_cmg\\K eigen plots.ipynb Cell 3'\u001b[0m in \u001b[0;36m<module>\u001b[1;34m\u001b[0m\n\u001b[0;32m      <a href='vscode-notebook-cell:/c%3A/Users/HP/Documents/GitHub/01_cmg/K%20eigen%20plots.ipynb#ch0000002?line=5'>6</a>\u001b[0m \u001b[39m# Stuff for visualization\u001b[39;00m\n\u001b[0;32m      <a href='vscode-notebook-cell:/c%3A/Users/HP/Documents/GitHub/01_cmg/K%20eigen%20plots.ipynb#ch0000002?line=6'>7</a>\u001b[0m \u001b[39mfrom\u001b[39;00m \u001b[39mipywidgets\u001b[39;00m \u001b[39mimport\u001b[39;00m interact\n\u001b[1;32m----> <a href='vscode-notebook-cell:/c%3A/Users/HP/Documents/GitHub/01_cmg/K%20eigen%20plots.ipynb#ch0000002?line=7'>8</a>\u001b[0m \u001b[39mfrom\u001b[39;00m \u001b[39mbokeh\u001b[39;00m\u001b[39m.\u001b[39;00m\u001b[39mio\u001b[39;00m \u001b[39mimport\u001b[39;00m push_notebook, show, output_notebook\n\u001b[0;32m      <a href='vscode-notebook-cell:/c%3A/Users/HP/Documents/GitHub/01_cmg/K%20eigen%20plots.ipynb#ch0000002?line=8'>9</a>\u001b[0m \u001b[39mfrom\u001b[39;00m \u001b[39mbokeh\u001b[39;00m\u001b[39m.\u001b[39;00m\u001b[39mlayouts\u001b[39;00m \u001b[39mimport\u001b[39;00m column, row\n\u001b[0;32m     <a href='vscode-notebook-cell:/c%3A/Users/HP/Documents/GitHub/01_cmg/K%20eigen%20plots.ipynb#ch0000002?line=9'>10</a>\u001b[0m \u001b[39mfrom\u001b[39;00m \u001b[39mbokeh\u001b[39;00m\u001b[39m.\u001b[39;00m\u001b[39mplotting\u001b[39;00m \u001b[39mimport\u001b[39;00m figure\n",
      "\u001b[1;31mModuleNotFoundError\u001b[0m: No module named 'bokeh'"
     ]
    }
   ],
   "source": [
    "# Stuff for computation\n",
    "import numpy as np\n",
    "import sympy as sym\n",
    "from scipy import linalg\n",
    "\n",
    "# Stuff for visualization\n",
    "from ipywidgets import interact\n",
    "from bokeh.io import push_notebook, show, output_notebook\n",
    "from bokeh.layouts import column, row\n",
    "from bokeh.plotting import figure\n",
    "from bokeh.models import PreText"
   ]
  },
  {
   "cell_type": "markdown",
   "id": "d740db6e",
   "metadata": {},
   "source": [
    "[Display Bokeh plots inline](https://docs.bokeh.org/en/latest/docs/user_guide/jupyter.html#classic-notebooks):"
   ]
  },
  {
   "cell_type": "code",
   "execution_count": 3,
   "id": "4501f868",
   "metadata": {},
   "outputs": [
    {
     "ename": "NameError",
     "evalue": "name 'output_notebook' is not defined",
     "output_type": "error",
     "traceback": [
      "\u001b[1;31m---------------------------------------------------------------------------\u001b[0m",
      "\u001b[1;31mNameError\u001b[0m                                 Traceback (most recent call last)",
      "\u001b[1;32mc:\\Users\\HP\\Documents\\GitHub\\01_cmg\\K eigen plots.ipynb Cell 5'\u001b[0m in \u001b[0;36m<module>\u001b[1;34m\u001b[0m\n\u001b[1;32m----> <a href='vscode-notebook-cell:/c%3A/Users/HP/Documents/GitHub/01_cmg/K%20eigen%20plots.ipynb#ch0000004?line=0'>1</a>\u001b[0m output_notebook()\n",
      "\u001b[1;31mNameError\u001b[0m: name 'output_notebook' is not defined"
     ]
    }
   ],
   "source": [
    "output_notebook()"
   ]
  },
  {
   "cell_type": "markdown",
   "id": "ebdbb501",
   "metadata": {},
   "source": [
    "Suppress the use of scientific notation when printing small numbers:"
   ]
  },
  {
   "cell_type": "code",
   "execution_count": 4,
   "id": "61943473",
   "metadata": {},
   "outputs": [],
   "source": [
    "np.set_printoptions(suppress=True)"
   ]
  },
  {
   "cell_type": "markdown",
   "id": "6efc62f7",
   "metadata": {},
   "source": [
    "The equations of motion are\n",
    "\n",
    "$$\n",
    "\\begin{aligned}\n",
    "J_1 \\ddot{q}_1 &= \\tau - m_wgl\\sin(q_1) \\\\\n",
    "J_2 \\dot{v}_2 &= - \\left( \\dfrac{J_1 + J_2}{J_1} \\right) \\tau + \\left( \\dfrac{J_2}{J_1} \\right) m_wgl\\sin(q_1)\n",
    "\\end{aligned}\n",
    "$$\n",
    "\n",
    "where\n",
    "\n",
    "* $q_1$ is the platform angle\n",
    "* $\\dot{q}_1$ is the platform velocity\n",
    "* $v_2$ is the wheel velocity\n",
    "* $\\tau$ is the torque applied *to* the platform *by* the wheel\n",
    "\n",
    "and\n",
    "\n",
    "$$\n",
    "J_1 = J_p + m_wl^2\n",
    "\\qquad\n",
    "\\qquad\n",
    "J_2 = J_w\n",
    "$$\n",
    "\n",
    "where parameters are as follows:"
   ]
  },
  {
   "cell_type": "code",
   "execution_count": 5,
   "id": "72e46cf3",
   "metadata": {},
   "outputs": [],
   "source": [
    "# one principal moment of inertia of the platform\n",
    "J1 = 0.5 # kg*m^2\n",
    "\n",
    "# two principal moments of inertia of the gimbal\n",
    "J2 = 0.001 # kg*m^2\n",
    "\n",
    "# principal moments of inertia of the rotor\n",
    "J3 = 0.01 # kg*m^2\n",
    "\n",
    "# mass of the boom\n",
    "m = 1. # kg\n",
    "\n",
    "# length of the boom\n",
    "r = 2. # m\n",
    "\n",
    "# acceleration due to gravity\n",
    "g = 9.81 # m/s^2\n",
    "\n",
    "# velocity of rotor\n",
    "v_rotor = 1000.\n",
    "\n",
    "\n",
    "# composite parameters\n",
    "a1 = -J3 + 2*J3\n",
    "a2 = 2.*J3\n",
    "a3 = -2.*g*m*r\n",
    "a4 = 2.*J1 + 2.*J2 + 2.*m*r**2.\n",
    "a5 = 2.*J3\n",
    "a6 = (J3 - J3)/(2*(J2 + J3))\n",
    "a7 = -J3/(J2 + J3)\n",
    "a8 = 1./(J2 + J3)"
   ]
  },
  {
   "cell_type": "markdown",
   "id": "8604b0bd",
   "metadata": {},
   "source": [
    "Define a function to linearize these equations of motion about some choice of equilibrium point and return a state-space model:"
   ]
  },
  {
   "cell_type": "code",
   "execution_count": 6,
   "id": "e5227cdc",
   "metadata": {},
   "outputs": [],
   "source": [
    "# Define a function to return a state-space model for a given choice of equilibrium point.\n",
    "def get_model(q1e, v1e, q2e, v2e, taue):\n",
    "    # Define variables\n",
    "    q1, v1, q2, v2, tau = sym.symbols('q1, v1, q2, v2, tau')\n",
    "    \n",
    "    # Define right-hand side of ODEs\n",
    "    f = sym.Matrix([\n",
    "        v1, \n",
    "        ((a1 * sym.sin(2 * q2) * v1 * v2) + (a2 * sym.cos(q2) * v2 * v_rotor) + (a3) * sym.sin(q1)) / (a4 + (a5 * sym.cos(q2)**2)),\n",
    "        v2,\n",
    "        a6 * sym.sin(2 * q2) * v1**2 + a7 * sym.cos(q2) * v1 * v_rotor + a8 * tau\n",
    "    ])\n",
    "    \n",
    "    # Convert floating-point to rational numbers\n",
    "    f = sym.nsimplify(f, rational=True)\n",
    "    \n",
    "    # Verify equilibrium point\n",
    "    f_num = sym.lambdify([q1, v1, q2, v2, tau], f)\n",
    "    if not np.allclose(f_num(q1e, v1e, q2e, v2e, taue), 0.):\n",
    "        raise Exception('equilibrium point is invalid')\n",
    "    \n",
    "    # Find A and B in symbolic form\n",
    "    A_sym = f.jacobian([q1, v1, q2, v2])\n",
    "    B_sym = f.jacobian([tau])\n",
    "    \n",
    "    # Create lambda functions to allow numerical evaluation of A and B\n",
    "    A_num = sym.lambdify([q1, v1, q2, v2, tau], A_sym)\n",
    "    B_num = sym.lambdify([q1, v1, q2, v2, tau], B_sym)\n",
    "    \n",
    "    # Find A and B in numeric form (making sure the result is floating-point)\n",
    "    A = A_num(q1e, q2e, v1e, v2e, taue).astype(float)\n",
    "    B = B_num(q1e, q2e, v1e, v2e, taue).astype(float)\n",
    "    \n",
    "    # Return A and B\n",
    "    return A, B"
   ]
  },
  {
   "cell_type": "markdown",
   "id": "86cd8cfd",
   "metadata": {},
   "source": [
    "Visualize the result of applying linear state feedback:"
   ]
  },
  {
   "cell_type": "code",
   "execution_count": 7,
   "id": "5cd93dd4",
   "metadata": {},
   "outputs": [
    {
     "ename": "NameError",
     "evalue": "name 'figure' is not defined",
     "output_type": "error",
     "traceback": [
      "\u001b[1;31m---------------------------------------------------------------------------\u001b[0m",
      "\u001b[1;31mNameError\u001b[0m                                 Traceback (most recent call last)",
      "\u001b[1;32mc:\\Users\\HP\\Documents\\GitHub\\01_cmg\\K eigen plots.ipynb Cell 13'\u001b[0m in \u001b[0;36m<module>\u001b[1;34m\u001b[0m\n\u001b[0;32m     <a href='vscode-notebook-cell:/c%3A/Users/HP/Documents/GitHub/01_cmg/K%20eigen%20plots.ipynb#ch0000012?line=37'>38</a>\u001b[0m     \u001b[39m# Refresh plots\u001b[39;00m\n\u001b[0;32m     <a href='vscode-notebook-cell:/c%3A/Users/HP/Documents/GitHub/01_cmg/K%20eigen%20plots.ipynb#ch0000012?line=38'>39</a>\u001b[0m     push_notebook()\n\u001b[1;32m---> <a href='vscode-notebook-cell:/c%3A/Users/HP/Documents/GitHub/01_cmg/K%20eigen%20plots.ipynb#ch0000012?line=40'>41</a>\u001b[0m s_fig \u001b[39m=\u001b[39m figure(title\u001b[39m=\u001b[39m\u001b[39m'\u001b[39m\u001b[39mclosed-loop eigenvalues\u001b[39m\u001b[39m'\u001b[39m, height\u001b[39m=\u001b[39m\u001b[39m300\u001b[39m, width\u001b[39m=\u001b[39m\u001b[39m300\u001b[39m,\n\u001b[0;32m     <a href='vscode-notebook-cell:/c%3A/Users/HP/Documents/GitHub/01_cmg/K%20eigen%20plots.ipynb#ch0000012?line=41'>42</a>\u001b[0m                 x_range\u001b[39m=\u001b[39m(\u001b[39m-\u001b[39m\u001b[39m80\u001b[39m, \u001b[39m1\u001b[39m), y_range\u001b[39m=\u001b[39m(\u001b[39m-\u001b[39m\u001b[39m40\u001b[39m, \u001b[39m40\u001b[39m))\n\u001b[0;32m     <a href='vscode-notebook-cell:/c%3A/Users/HP/Documents/GitHub/01_cmg/K%20eigen%20plots.ipynb#ch0000012?line=42'>43</a>\u001b[0m s_plt \u001b[39m=\u001b[39m s_fig\u001b[39m.\u001b[39mcircle([\u001b[39m0\u001b[39m, \u001b[39m0\u001b[39m, \u001b[39m0\u001b[39m, \u001b[39m0\u001b[39m], [\u001b[39m0\u001b[39m, \u001b[39m0\u001b[39m, \u001b[39m0\u001b[39m, \u001b[39m0\u001b[39m], size\u001b[39m=\u001b[39m\u001b[39m5\u001b[39m, color\u001b[39m=\u001b[39m\u001b[39m'\u001b[39m\u001b[39mnavy\u001b[39m\u001b[39m'\u001b[39m, alpha\u001b[39m=\u001b[39m\u001b[39m0.5\u001b[39m) \u001b[39m# originally three zeros\u001b[39;00m\n\u001b[0;32m     <a href='vscode-notebook-cell:/c%3A/Users/HP/Documents/GitHub/01_cmg/K%20eigen%20plots.ipynb#ch0000012?line=44'>45</a>\u001b[0m x1_fig \u001b[39m=\u001b[39m figure(title\u001b[39m=\u001b[39m\u001b[39m'\u001b[39m\u001b[39mx1(t)\u001b[39m\u001b[39m'\u001b[39m, height\u001b[39m=\u001b[39m\u001b[39m150\u001b[39m, width\u001b[39m=\u001b[39m\u001b[39m400\u001b[39m,\n\u001b[0;32m     <a href='vscode-notebook-cell:/c%3A/Users/HP/Documents/GitHub/01_cmg/K%20eigen%20plots.ipynb#ch0000012?line=45'>46</a>\u001b[0m                 x_range\u001b[39m=\u001b[39m(t0, t1), y_range\u001b[39m=\u001b[39m(\u001b[39m-\u001b[39m\u001b[39m1.5\u001b[39m, \u001b[39m1.5\u001b[39m))\n",
      "\u001b[1;31mNameError\u001b[0m: name 'figure' is not defined"
     ]
    }
   ],
   "source": [
    "(q1e, v1e, q2e, v2e, taue) = (np.pi, 0., 0., 0., 0.) # <-- EQUILIBRIUM POINT\n",
    "A, B = get_model(q1e, v1e, q2e, v2e, taue)\n",
    "(t0, t1, dt) = (0., 5., 0.05)\n",
    "nt = int(1 + np.ceil((t1 - t0) / dt))\n",
    "x0 = np.array([1., 0., 0., 0.]) # initial condition (x1i, x2i, x3i, x4i)\n",
    "t = np.linspace(t0, t1, nt)\n",
    "x = np.zeros((101, 4))\n",
    "\n",
    "def update(k1=0, k2=0, k3=0, k4=0):\n",
    "    # Get closed-loop eigenvalues\n",
    "    K = np.array([[k1, k2, k3, k4]])\n",
    "    s = linalg.eigvals(A - B @ K)\n",
    "    s_plt.data_source.data['x'] = s.real\n",
    "    s_plt.data_source.data['y'] = s.imag\n",
    "    eigs.text = 'EIGENVALUES:\\n' \\\n",
    "             + f' s1 = {s[0]:12.2f}\\n' \\\n",
    "             + f' s2 = {s[1]:12.2f}\\n' \\\n",
    "             + f' s3 = {s[2]:12.2f}\\n' \\\n",
    "             + f' s4 = {s[3]:12.2f}'\n",
    "    code.text = 'CONTROLLER:\\n' \\\n",
    "             + f' q1 = platform_angle\\n' \\\n",
    "             + f' v1 = platform_velocity\\n' \\\n",
    "             + f' q2 = gimbal_angle\\n' \\\n",
    "             + f' v2 = gimbal_velocity\\n' \\\n",
    "             + f' wheel_torque = - ({k1:g}) * (q1 - {q1e:.2f})' \\\n",
    "             + f' - ({k2:g}) * (v1 - {v1e:.2f})' \\\n",
    "             + f' - ({k3:g}) * (q2 - {q2e:.2f})' \\\n",
    "             + f' - ({k4:g}) * (v2 - {v2e:.2f})' \\\n",
    "    \n",
    "    # Get x(t)\n",
    "    for i in range(len(t)):\n",
    "        x[i] = linalg.expm((A - B @ K) * (t[i] - t0)) @ x0\n",
    "    x1_plt.data_source.data['y'] = x[:, 0]\n",
    "    x2_plt.data_source.data['y'] = x[:, 1]\n",
    "    x3_plt.data_source.data['y'] = x[:, 2]\n",
    "    x4_plt.data_source.data['y'] = x[:, 3]\n",
    "    \n",
    "    # Refresh plots\n",
    "    push_notebook()\n",
    "\n",
    "s_fig = figure(title='closed-loop eigenvalues', height=300, width=300,\n",
    "                x_range=(-80, 1), y_range=(-40, 40))\n",
    "s_plt = s_fig.circle([0, 0, 0, 0], [0, 0, 0, 0], size=5, color='navy', alpha=0.5) # originally three zeros\n",
    "\n",
    "x1_fig = figure(title='x1(t)', height=150, width=400,\n",
    "                x_range=(t0, t1), y_range=(-1.5, 1.5))\n",
    "x1_plt = x1_fig.line(t, np.zeros_like(t), line_width=2, line_color='navy')\n",
    "\n",
    "x2_fig = figure(title='x2(t)', height=150, width=400,\n",
    "                x_range=(t0, t1), y_range=(-5, 5))\n",
    "x2_plt = x2_fig.line(t, np.zeros_like(t), line_width=2, line_color='navy')\n",
    "\n",
    "x3_fig = figure(title='x3(t)', height=150, width=400,\n",
    "                x_range=(t0, t1), y_range=(-6, 6))\n",
    "x3_plt = x3_fig.line(t, np.zeros_like(t), line_width=2, line_color='navy')\n",
    "\n",
    "x4_fig = figure(title='x4(t)', height=150, width=400,\n",
    "                x_range=(t0, t1), y_range=(-5, 5))\n",
    "x4_plt = x4_fig.line(t, np.zeros_like(t), line_width=2, line_color='navy')\n",
    "\n",
    "eigs = PreText(text='', width=300, height=100, margin=(50, 0, 0, 50))\n",
    "code = PreText(text='', margin=(20, 0, 0, 20))\n",
    "\n",
    "show(\n",
    "    column(\n",
    "        row(\n",
    "            column(s_fig, eigs),\n",
    "            column(x1_fig, x2_fig, x3_fig, x4_fig)\n",
    "        ),\n",
    "        row(code, sizing_mode='stretch_width'),\n",
    "    ),\n",
    "    notebook_handle=True,\n",
    ")\n",
    "interact(update, k1=(-2, 2, 0.01), k2=(-2, 2, 0.01), k3=(-2,2,0.01), k4=(-2, 2, 0.01));"
   ]
  },
  {
   "cell_type": "code",
   "execution_count": null,
   "id": "0ca98827",
   "metadata": {},
   "outputs": [],
   "source": []
  }
 ],
 "metadata": {
  "kernelspec": {
   "display_name": "Python 3",
   "language": "python",
   "name": "python3"
  },
  "language_info": {
   "codemirror_mode": {
    "name": "ipython",
    "version": 3
   },
   "file_extension": ".py",
   "mimetype": "text/x-python",
   "name": "python",
   "nbconvert_exporter": "python",
   "pygments_lexer": "ipython3",
   "version": "3.10.2"
  }
 },
 "nbformat": 4,
 "nbformat_minor": 5
}
